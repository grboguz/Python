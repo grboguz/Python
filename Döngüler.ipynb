{
 "cells": [
  {
   "cell_type": "code",
   "execution_count": null,
   "id": "f60e2399",
   "metadata": {},
   "outputs": [],
   "source": [
    "# Döngüler\n",
    "\"\"\"\n",
    "Loops\n",
    "    1. for\n",
    "    2. while\n",
    "\n",
    "Statements\n",
    "    1. pass (görmezden gelmek)\n",
    "    2. break (kırmak)\n",
    "    3. continue (atlamak)\n",
    "    \n",
    "Method\n",
    "    1.range()\n",
    "\"\"\"\n"
   ]
  },
  {
   "cell_type": "code",
   "execution_count": null,
   "id": "4b2a4590",
   "metadata": {},
   "outputs": [],
   "source": [
    "\"\"\"\n",
    "1.for döngüsü\n",
    "\n",
    "for değişken in iterasyon_yöntemi(range(),liste,string):\n",
    "    ....işlem....\n",
    "    ....işlem....\n",
    "    ....işlem....\n",
    "\n",
    "\n",
    "2.while döngüsü\n",
    "\n",
    "while iterasyon_yöntemi:\n",
    "    ....işlem....\n",
    "    ....işlem....\n",
    "    ....işlem....\n",
    "\"\"\""
   ]
  },
  {
   "cell_type": "code",
   "execution_count": null,
   "id": "09685e2d",
   "metadata": {},
   "outputs": [],
   "source": [
    "help(range)"
   ]
  },
  {
   "cell_type": "code",
   "execution_count": null,
   "id": "0c7075ff",
   "metadata": {},
   "outputs": [],
   "source": [
    "x = [1,2,3,4,5,6,7,8,9,10]\n",
    "\"\"\"\n",
    "!!!!!!!\n",
    "print(x[0])\n",
    "print(x[1])\n",
    "print(x[2])\n",
    ".....\n",
    "!!!!!!!\n",
    "\"\"\"\n",
    "for i in x:\n",
    "    print(i)\n",
    "    print(i+10)"
   ]
  },
  {
   "cell_type": "code",
   "execution_count": null,
   "id": "a05a0119",
   "metadata": {},
   "outputs": [],
   "source": [
    " # x = [1,2,3,4,5,6,7,8,9,10] --> range(0,10)\n",
    "for i in range(0,11):\n",
    "    print(i)"
   ]
  },
  {
   "cell_type": "code",
   "execution_count": null,
   "id": "cdde04e0",
   "metadata": {},
   "outputs": [],
   "source": [
    "a = [\"Tesla\",\"Ford\",\"Mercedes\",\"Togg\"]\n",
    "b = \"Togg\"\n",
    "c = \"Fethedilemez olmak zihnin gücüdür.\"\n",
    "\n",
    "for i in c:\n",
    "    print(i)\n",
    "    if i == \" \":\n",
    "        break\n",
    "\n",
    "for i in c:\n",
    "    if i == \"e\":\n",
    "        continue\n",
    "    print(i)  \n",
    "\n",
    "for i in [\"Tesla\",\"Ford\",\"Mercedes\",\"Togg\"]:\n",
    "    pass\n",
    "    "
   ]
  },
  {
   "cell_type": "code",
   "execution_count": 2,
   "id": "6881ab16",
   "metadata": {},
   "outputs": [
    {
     "name": "stdout",
     "output_type": "stream",
     "text": [
      "0\n",
      "1\n",
      "2\n",
      "3\n",
      "4\n"
     ]
    }
   ],
   "source": [
    "# while\n",
    "i = 0\n",
    "while i<10:\n",
    "    if i == 5:\n",
    "        break\n",
    "    print(i)\n",
    "    i = i+1\n"
   ]
  },
  {
   "cell_type": "code",
   "execution_count": 1,
   "id": "909289ac",
   "metadata": {
    "scrolled": true
   },
   "outputs": [
    {
     "name": "stdout",
     "output_type": "stream",
     "text": [
      "0\n",
      "2\n",
      "4\n",
      "6\n",
      "8\n",
      "10\n"
     ]
    }
   ],
   "source": [
    "i = 0\n",
    "while i<=10:\n",
    "    if i%2==0:\n",
    "        print(i)\n",
    "        i = i+1\n",
    "    else:\n",
    "        i = i+1\n",
    "        continue"
   ]
  }
 ],
 "metadata": {
  "kernelspec": {
   "display_name": "Python 3",
   "language": "python",
   "name": "python3"
  },
  "language_info": {
   "codemirror_mode": {
    "name": "ipython",
    "version": 3
   },
   "file_extension": ".py",
   "mimetype": "text/x-python",
   "name": "python",
   "nbconvert_exporter": "python",
   "pygments_lexer": "ipython3",
   "version": "3.8.8"
  }
 },
 "nbformat": 4,
 "nbformat_minor": 5
}
