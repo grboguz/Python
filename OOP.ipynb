{
 "cells": [
  {
   "cell_type": "code",
   "execution_count": null,
   "id": "a21b4087",
   "metadata": {},
   "outputs": [],
   "source": [
    "\"\"\"\n",
    "SINIF \n",
    "KALITIM\n",
    "\n",
    "class Yacht():\n",
    "    \n",
    "\"\"\""
   ]
  },
  {
   "cell_type": "code",
   "execution_count": 4,
   "id": "e497a64d",
   "metadata": {},
   "outputs": [
    {
     "name": "stdout",
     "output_type": "stream",
     "text": [
      "yacht\n",
      "YACHT\n"
     ]
    }
   ],
   "source": [
    "a = \"Yacht\"\n",
    "type(a)\n",
    "lower_a = a.lower()\n",
    "print(lower_a)\n",
    "\n",
    "upper_a = a.upper()\n",
    "print(upper_a)"
   ]
  },
  {
   "cell_type": "code",
   "execution_count": 5,
   "id": "1221adb4",
   "metadata": {},
   "outputs": [],
   "source": [
    "class Yacht():\n",
    "    length = 45\n",
    "    weights = 10\n",
    "    flag = \"Malta\""
   ]
  },
  {
   "cell_type": "code",
   "execution_count": 10,
   "id": "d55bce89",
   "metadata": {},
   "outputs": [
    {
     "name": "stdout",
     "output_type": "stream",
     "text": [
      "<__main__.Yacht object at 0x0000026817BB9460>\n",
      "Length: 45\n",
      "Weight: 10\n",
      "Flag: Malta\n"
     ]
    }
   ],
   "source": [
    "yacht1 = Yacht()\n",
    "print(yacht1)\n",
    "print(\"Length:\",yacht1.length)\n",
    "print(\"Weight:\",yacht1.weights)\n",
    "print(\"Flag:\",yacht1.flag)"
   ]
  },
  {
   "cell_type": "code",
   "execution_count": 19,
   "id": "edaffbc6",
   "metadata": {},
   "outputs": [
    {
     "name": "stdout",
     "output_type": "stream",
     "text": [
      "Yacht 1 - Length: 45\n",
      "Yacht 1 - Weight: 10\n",
      "Yacht 1 - Flag: Malta\n",
      "\n",
      "Yacht 2 - Length: 70\n",
      "Yacht 2 - Weight: 50\n",
      "Yacht 2 - Flag: xxx\n",
      "\n",
      "Yacht 3 - Length: 30\n",
      "Yacht 3 - Weight: 7\n",
      "Yacht 3 - Flag: xxxx\n"
     ]
    }
   ],
   "source": [
    "class Yacht():\n",
    "    def __init__(self,length,weights,flag):\n",
    "        self.length = length\n",
    "        self.weights = weights\n",
    "        self.flag = flag\n",
    "        \n",
    "yacht_1 = Yacht(\"45\",\"10\",\"Malta\")\n",
    "yacht_2 = Yacht(\"70\",\"50\",\"xxx\")\n",
    "yacht_3 = Yacht(\"30\",\"7\",\"xxxx\")\n",
    "\"\"\"\n",
    "print(yacht_1)\n",
    "print(yacht_2)\n",
    "print(yacht_3)\n",
    "\"\"\"\n",
    "print(\"Yacht 1 - Length:\",yacht_1.length)\n",
    "print(\"Yacht 1 - Weight:\",yacht_1.weights)\n",
    "print(\"Yacht 1 - Flag:\",yacht_1.flag)\n",
    "print()\n",
    "print(\"Yacht 2 - Length:\",yacht_2.length)\n",
    "print(\"Yacht 2 - Weight:\",yacht_2.weights)\n",
    "print(\"Yacht 2 - Flag:\",yacht_2.flag)\n",
    "print()\n",
    "print(\"Yacht 3 - Length:\",yacht_3.length)\n",
    "print(\"Yacht 3 - Weight:\",yacht_3.weights)\n",
    "print(\"Yacht 3 - Flag:\",yacht_3.flag)"
   ]
  },
  {
   "cell_type": "code",
   "execution_count": 31,
   "id": "eee7f619",
   "metadata": {},
   "outputs": [
    {
     "name": "stdout",
     "output_type": "stream",
     "text": [
      "Flag: Malta\n",
      "Flag: xyz\n",
      "Flag: USA\n"
     ]
    }
   ],
   "source": [
    "class Yacht():\n",
    "    def __init__(self,length,weights,flag):\n",
    "        self.length = length\n",
    "        self.weights = weights\n",
    "        self.flag = flag\n",
    "\n",
    "class Ship(Yacht):\n",
    "    def __init__(self,length,weights,flag):\n",
    "        super().__init__(length,weights,flag)\n",
    "        \n",
    "    def changeFlag(self, yacht1):\n",
    "        yacht1.flag = \"USA\"\n",
    "    \n",
    "\n",
    "yacht_1 = Yacht(45, 10, \"Malta\")\n",
    "print(\"Flag:\",yacht_1.flag)\n",
    "\n",
    "ship_1 = Ship(100, 70, \"xyz\")\n",
    "print(\"Flag:\",ship_1.flag)\n",
    "\n",
    "ship_1.changeFlag(yacht_1)\n",
    "print(\"Flag:\",yacht_1.flag)"
   ]
  }
 ],
 "metadata": {
  "kernelspec": {
   "display_name": "Python 3",
   "language": "python",
   "name": "python3"
  },
  "language_info": {
   "codemirror_mode": {
    "name": "ipython",
    "version": 3
   },
   "file_extension": ".py",
   "mimetype": "text/x-python",
   "name": "python",
   "nbconvert_exporter": "python",
   "pygments_lexer": "ipython3",
   "version": "3.8.8"
  }
 },
 "nbformat": 4,
 "nbformat_minor": 5
}
