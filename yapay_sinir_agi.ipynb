{
 "cells": [
  {
   "cell_type": "code",
   "execution_count": null,
   "id": "9074ea2c",
   "metadata": {},
   "outputs": [],
   "source": [
    "\"\"\"\n",
    "A.I. --> M.L. --> A.N.N --> D.N.N.(DL) \n",
    "\n",
    "x1,x2,x3 --> Neuron --> Output --> activation(Output) --> Output\n",
    "output = inputs*weights + bias\n",
    "output = activation(output)\n",
    "\"\"\""
   ]
  },
  {
   "cell_type": "code",
   "execution_count": 4,
   "id": "c2346160",
   "metadata": {},
   "outputs": [
    {
     "name": "stdout",
     "output_type": "stream",
     "text": [
      "Output: 2.2\n"
     ]
    }
   ],
   "source": [
    "# tek nöron\n",
    "\n",
    "inputs = [7, 9.3, 8.1]\n",
    "weights = [0.2, 0.35, -0.55]\n",
    "bias = 2\n",
    "\n",
    "output = inputs[0]*weights[0] + inputs[1]*weights[1] + inputs[2]*weights[2] +bias\n",
    "print(\"Output:\",output)"
   ]
  },
  {
   "cell_type": "code",
   "execution_count": 6,
   "id": "e2fc6775",
   "metadata": {},
   "outputs": [
    {
     "name": "stdout",
     "output_type": "stream",
     "text": [
      "Output: [6.33, 10.366, 4.393000000000001]\n"
     ]
    }
   ],
   "source": [
    "# çoklu nöron, bir katman\n",
    "\n",
    "inputs = [7, 8, 2.1, -2.5]\n",
    "\n",
    "weights1 = [0.2, 0.3, -0.7, -0.8]\n",
    "weights2 = [0.51, 0.23, -0.14, -0.5]\n",
    "weights3 = [0.3, 0.6, -0.42, 0.25]\n",
    "\n",
    "bias1 = 2\n",
    "bias2 = 4\n",
    "bias3 = -1\n",
    "\n",
    "output = [ # neuron 1\n",
    "            inputs[0]*weights1[0]+\n",
    "            inputs[1]*weights1[1]+\n",
    "            inputs[2]*weights1[2]+\n",
    "            inputs[3]*weights1[3] + bias1,\n",
    "           # neuron 2\n",
    "            inputs[0]*weights2[0]+\n",
    "            inputs[1]*weights2[1]+\n",
    "            inputs[2]*weights2[2]+\n",
    "            inputs[3]*weights2[3] + bias2,\n",
    "           # neuron 3\n",
    "            inputs[0]*weights3[0]+\n",
    "            inputs[1]*weights3[1]+\n",
    "            inputs[2]*weights3[2]+\n",
    "            inputs[3]*weights3[3] + bias3 ]\n",
    "\n",
    "print(\"Output:\",output)"
   ]
  },
  {
   "cell_type": "code",
   "execution_count": null,
   "id": "5b053043",
   "metadata": {},
   "outputs": [],
   "source": []
  }
 ],
 "metadata": {
  "kernelspec": {
   "display_name": "Python 3",
   "language": "python",
   "name": "python3"
  },
  "language_info": {
   "codemirror_mode": {
    "name": "ipython",
    "version": 3
   },
   "file_extension": ".py",
   "mimetype": "text/x-python",
   "name": "python",
   "nbconvert_exporter": "python",
   "pygments_lexer": "ipython3",
   "version": "3.8.8"
  }
 },
 "nbformat": 4,
 "nbformat_minor": 5
}
