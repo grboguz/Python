{
 "cells": [
  {
   "cell_type": "code",
   "execution_count": 1,
   "id": "6b273924",
   "metadata": {},
   "outputs": [
    {
     "name": "stdout",
     "output_type": "stream",
     "text": [
      "String: Hello World!\n",
      "Integer: 12345 Number\n",
      "5 String!\n"
     ]
    }
   ],
   "source": [
    "# Ekrana string ve integer yazdır.\n",
    "print(\"String: Hello World!\")\n",
    "print(\"Integer:\",12345,\"Number\")\n",
    "x = 5\n",
    "y = \"String!\"\n",
    "print(x,y)"
   ]
  },
  {
   "cell_type": "code",
   "execution_count": 3,
   "id": "7742cfae",
   "metadata": {},
   "outputs": [
    {
     "name": "stdout",
     "output_type": "stream",
     "text": [
      "Help on built-in function print in module builtins:\n",
      "\n",
      "print(...)\n",
      "    print(value, ..., sep=' ', end='\\n', file=sys.stdout, flush=False)\n",
      "    \n",
      "    Prints the values to a stream, or to sys.stdout by default.\n",
      "    Optional keyword arguments:\n",
      "    file:  a file-like object (stream); defaults to the current sys.stdout.\n",
      "    sep:   string inserted between values, default a space.\n",
      "    end:   string appended after the last value, default a newline.\n",
      "    flush: whether to forcibly flush the stream.\n",
      "\n"
     ]
    }
   ],
   "source": [
    "# help() metodunun görevini araştır.\n",
    "help(print)"
   ]
  },
  {
   "cell_type": "code",
   "execution_count": 5,
   "id": "3fc92431",
   "metadata": {},
   "outputs": [
    {
     "name": "stdout",
     "output_type": "stream",
     "text": [
      "15\n",
      "15\n"
     ]
    }
   ],
   "source": [
    "# bir değişken tanımla ve çarpma işlemi gerçekleştir.\n",
    "x = 3\n",
    "y = 5\n",
    "z = x*y\n",
    "print(z)\n",
    "print(x*y)"
   ]
  },
  {
   "cell_type": "code",
   "execution_count": 9,
   "id": "93033d63",
   "metadata": {},
   "outputs": [
    {
     "name": "stdout",
     "output_type": "stream",
     "text": [
      "68.2\n",
      "4\n"
     ]
    }
   ],
   "source": [
    "# birkaç değişken birden tanımla ve 4 işlemi kullan.\n",
    "a = 1\n",
    "b = 5\n",
    "c = 14\n",
    "d = c*b+a-c/b\n",
    "print(d)\n",
    "\n",
    "mode = c % b\n",
    "print(mode)"
   ]
  },
  {
   "cell_type": "code",
   "execution_count": 10,
   "id": "643bdafe",
   "metadata": {},
   "outputs": [
    {
     "name": "stdout",
     "output_type": "stream",
     "text": [
      "x is a/an <class 'int'> number\n",
      "y is a/an <class 'float'> number\n",
      "z is a/an <class 'complex'> number\n"
     ]
    }
   ],
   "source": [
    "# int, float ve kompleks sayılar tanımla ve bunların tiplerini type() metodu ile incele.\n",
    "x = 1\n",
    "y = 2.4\n",
    "z = 3 + 4j\n",
    "\n",
    "# x is a/an ..... number\n",
    "print(\"x is a/an\",type(x),\"number\")\n",
    "print(\"y is a/an\",type(y),\"number\")\n",
    "print(\"z is a/an\",type(z),\"number\")"
   ]
  },
  {
   "cell_type": "code",
   "execution_count": 19,
   "id": "f904c2bd",
   "metadata": {},
   "outputs": [
    {
     "name": "stdout",
     "output_type": "stream",
     "text": [
      "Hello World!\n",
      "12\n",
      "H\n",
      "ello\n",
      "HELLO WORLD!\n",
      "hello world!\n",
      "Tello World!\n"
     ]
    }
   ],
   "source": [
    "# Temel string işlemlerini gerçekleştir.\n",
    "\"\"\"\n",
    "1. Bir metin tanımla.\n",
    "2. Metnin uzunluğunu incele\n",
    "3. Metnin ilk karakterini yazdır.\n",
    "4. Metnin herhangi bir bölümünü yazdır.\n",
    "5. Metni tamamen büyük harf yap.\n",
    "6. Metni tamamen küçük harf yap.\n",
    "7. Metindeki bir harfi başka bir harf ile değiştir.\n",
    "\"\"\"\n",
    "a = \"Hello World!\"\n",
    "print(a)\n",
    "\n",
    "# len() metodu içerisine girilen değişkende tutulan ifadenin kaç karakter içerdiğini döndürür.\n",
    "len_a = len(a)\n",
    "print(len_a)\n",
    "\n",
    "print(a[0])\n",
    "\n",
    "b = a[1:5]\n",
    "print(b)\n",
    "\n",
    "# bir harfi başka bir harf ile değiştir\n",
    "c = a.upper()\n",
    "print(c)\n",
    "\n",
    "# bir harfi başka bir harf ile değiştir\n",
    "d = a.lower()\n",
    "print(d)\n",
    "\n",
    "# bir harfi başka bir harf ile değiştir\n",
    "print(a.replace(\"H\",\"T\"))"
   ]
  },
  {
   "cell_type": "code",
   "execution_count": 27,
   "id": "5f59311e",
   "metadata": {},
   "outputs": [
    {
     "name": "stdout",
     "output_type": "stream",
     "text": [
      "Enter your age: 25\n",
      "25\n",
      "<class 'int'>\n"
     ]
    }
   ],
   "source": [
    "# Kullanıcıdan bir string ve bir integer al.\n",
    "x = input(\"Enter your name: \")\n",
    "print(x)\n",
    "print(type(x))\n",
    "\n",
    "y = int(input(\"Enter your age: \"))\n",
    "print(y)\n",
    "print(type(y))"
   ]
  },
  {
   "cell_type": "code",
   "execution_count": 30,
   "id": "94679103",
   "metadata": {},
   "outputs": [
    {
     "name": "stdout",
     "output_type": "stream",
     "text": [
      "sin(x): 0.0015926529164868282\n",
      "cos(x) -0.9999987317275395\n"
     ]
    }
   ],
   "source": [
    "# bir sayının sin ve cos değerlerini yazdır.\n",
    "import math\n",
    "\n",
    "x = 3.14\n",
    "print(\"sin(x):\",math.sin(x))\n",
    "print(\"cos(x)\",math.cos(x))"
   ]
  }
 ],
 "metadata": {
  "kernelspec": {
   "display_name": "Python 3",
   "language": "python",
   "name": "python3"
  },
  "language_info": {
   "codemirror_mode": {
    "name": "ipython",
    "version": 3
   },
   "file_extension": ".py",
   "mimetype": "text/x-python",
   "name": "python",
   "nbconvert_exporter": "python",
   "pygments_lexer": "ipython3",
   "version": "3.8.8"
  }
 },
 "nbformat": 4,
 "nbformat_minor": 5
}
