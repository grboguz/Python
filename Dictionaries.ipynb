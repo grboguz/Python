{
 "cells": [
  {
   "cell_type": "code",
   "execution_count": null,
   "id": "c4f44323",
   "metadata": {},
   "outputs": [],
   "source": [
    "# Dictionaries\n",
    "\"\"\"\n",
    "değişken = { key:value,\n",
    "             key_1:value_1,\n",
    "             key_2:value_2,\n",
    "             key_3:value_3,\n",
    "             key_n:value_n }\n",
    "\n",
    "\"\"\""
   ]
  },
  {
   "cell_type": "code",
   "execution_count": 1,
   "id": "affc7185",
   "metadata": {},
   "outputs": [],
   "source": [
    "car = {\n",
    "    \"brand\":\"Mercedes\",\n",
    "    \"color\":\"red\",\n",
    "    \"model\":2005,\n",
    "    \"country\":\"Germany\"\n",
    "} "
   ]
  },
  {
   "cell_type": "code",
   "execution_count": 4,
   "id": "151512ee",
   "metadata": {},
   "outputs": [
    {
     "name": "stdout",
     "output_type": "stream",
     "text": [
      "{'brand': 'Mercedes', 'color': 'red', 'model': 2005, 'country': 'Germany'}\n",
      "red\n"
     ]
    }
   ],
   "source": [
    "print(car)\n",
    "print(car[\"color\"])"
   ]
  },
  {
   "cell_type": "code",
   "execution_count": 5,
   "id": "a7f0e5b0",
   "metadata": {},
   "outputs": [],
   "source": [
    "car = {\n",
    "    \"brand\":[\"Mercedes\",\"BMW\",\"Ford\"],\n",
    "    \"color\":[\"red\",\"blue\",\"white\"],\n",
    "    \"model\":[2005,2010,2007],\n",
    "    \"country\":[\"Germany\",\"Germany\",\"USA\"]\n",
    "} "
   ]
  },
  {
   "cell_type": "code",
   "execution_count": 9,
   "id": "1bd946ef",
   "metadata": {},
   "outputs": [
    {
     "name": "stdout",
     "output_type": "stream",
     "text": [
      "Brand: Mercedes\n",
      "Color: red\n",
      "Model: 2005\n",
      "Country: Germany\n"
     ]
    }
   ],
   "source": [
    "print(\"Brand:\",car[\"brand\"][0])\n",
    "print(\"Color:\",car[\"color\"][0])\n",
    "print(\"Model:\",car[\"model\"][0])\n",
    "print(\"Country:\",car[\"country\"][0])"
   ]
  },
  {
   "cell_type": "code",
   "execution_count": 10,
   "id": "620a36b5",
   "metadata": {},
   "outputs": [
    {
     "name": "stdout",
     "output_type": "stream",
     "text": [
      "Brand: BMW\n",
      "Color: blue\n",
      "Model: 2010\n",
      "Country: Germany\n"
     ]
    }
   ],
   "source": [
    "print(\"Brand:\",car[\"brand\"][1])\n",
    "print(\"Color:\",car[\"color\"][1])\n",
    "print(\"Model:\",car[\"model\"][1])\n",
    "print(\"Country:\",car[\"country\"][1])"
   ]
  },
  {
   "cell_type": "code",
   "execution_count": 12,
   "id": "b5882111",
   "metadata": {},
   "outputs": [
    {
     "name": "stdout",
     "output_type": "stream",
     "text": [
      "Color: Gray\n",
      "{'brand': ['Mercedes', 'BMW', 'Ford'], 'color': ['red', 'Gray', 'white'], 'model': [2005, 2010, 2007], 'country': ['Germany', 'Germany', 'USA']}\n"
     ]
    }
   ],
   "source": [
    "car[\"color\"][1] = \"Gray\"\n",
    "print(\"Color:\",car[\"color\"][1])\n",
    "print(car)"
   ]
  }
 ],
 "metadata": {
  "kernelspec": {
   "display_name": "Python 3",
   "language": "python",
   "name": "python3"
  },
  "language_info": {
   "codemirror_mode": {
    "name": "ipython",
    "version": 3
   },
   "file_extension": ".py",
   "mimetype": "text/x-python",
   "name": "python",
   "nbconvert_exporter": "python",
   "pygments_lexer": "ipython3",
   "version": "3.8.8"
  }
 },
 "nbformat": 4,
 "nbformat_minor": 5
}
