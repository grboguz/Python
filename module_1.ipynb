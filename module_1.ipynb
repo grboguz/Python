{
 "cells": [
  {
   "cell_type": "code",
   "execution_count": 1,
   "id": "79f4b939",
   "metadata": {},
   "outputs": [],
   "source": [
    "from module import *"
   ]
  },
  {
   "cell_type": "code",
   "execution_count": 2,
   "id": "d20626b3",
   "metadata": {},
   "outputs": [
    {
     "name": "stdout",
     "output_type": "stream",
     "text": [
      "A: 8\n",
      "B: 6\n",
      "C: 7\n",
      "Summation:  21\n",
      "Subtraction:  -5\n",
      "Multiplication:  336\n"
     ]
    }
   ],
   "source": [
    "a = int(input(\"A: \"))\n",
    "b = int(input(\"B: \"))\n",
    "c = int(input(\"C: \"))\n",
    "\n",
    "print(\"Summation: \",addition(a,b,c))\n",
    "print(\"Subtraction: \",subtraction(a,b,c))\n",
    "print(\"Multiplication: \",multiplication(a,b,c))"
   ]
  }
 ],
 "metadata": {
  "kernelspec": {
   "display_name": "Python 3",
   "language": "python",
   "name": "python3"
  },
  "language_info": {
   "codemirror_mode": {
    "name": "ipython",
    "version": 3
   },
   "file_extension": ".py",
   "mimetype": "text/x-python",
   "name": "python",
   "nbconvert_exporter": "python",
   "pygments_lexer": "ipython3",
   "version": "3.8.8"
  }
 },
 "nbformat": 4,
 "nbformat_minor": 5
}
