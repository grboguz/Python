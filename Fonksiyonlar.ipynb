{
 "cells": [
  {
   "cell_type": "code",
   "execution_count": null,
   "id": "c5508fff",
   "metadata": {},
   "outputs": [],
   "source": [
    "\"\"\"\n",
    "1. Tanımlama\n",
    "2. Çağırma\n",
    "\n",
    "def func(parameters):\n",
    "    ....işlem....\n",
    "\n",
    "def func(parameters):  # f(x) = y\n",
    "    ....işlem....\n",
    "    return değişken\n",
    "    \n",
    "func(parameters)\n",
    "\"\"\""
   ]
  },
  {
   "cell_type": "code",
   "execution_count": 1,
   "id": "57092a86",
   "metadata": {},
   "outputs": [],
   "source": [
    "def summation():\n",
    "    a = 1\n",
    "    b = 5.3\n",
    "    print(a+b)"
   ]
  },
  {
   "cell_type": "code",
   "execution_count": 2,
   "id": "06c3e002",
   "metadata": {},
   "outputs": [
    {
     "name": "stdout",
     "output_type": "stream",
     "text": [
      "6.3\n"
     ]
    }
   ],
   "source": [
    "summation()"
   ]
  },
  {
   "cell_type": "code",
   "execution_count": 3,
   "id": "8ad50f18",
   "metadata": {},
   "outputs": [],
   "source": [
    "def summation_1():\n",
    "    for i in range(0,11):\n",
    "        print(i)"
   ]
  },
  {
   "cell_type": "code",
   "execution_count": 4,
   "id": "2d199403",
   "metadata": {},
   "outputs": [
    {
     "name": "stdout",
     "output_type": "stream",
     "text": [
      "0\n",
      "1\n",
      "2\n",
      "3\n",
      "4\n",
      "5\n",
      "6\n",
      "7\n",
      "8\n",
      "9\n",
      "10\n"
     ]
    }
   ],
   "source": [
    "summation_1()"
   ]
  },
  {
   "cell_type": "code",
   "execution_count": 8,
   "id": "cfcaf529",
   "metadata": {},
   "outputs": [
    {
     "name": "stdout",
     "output_type": "stream",
     "text": [
      "None\n"
     ]
    }
   ],
   "source": [
    "def summation():\n",
    "    a = 1\n",
    "    b = 5.3\n",
    "    c = a+b\n",
    "    \n",
    "print(summation())"
   ]
  },
  {
   "cell_type": "code",
   "execution_count": 7,
   "id": "34fd4825",
   "metadata": {},
   "outputs": [
    {
     "name": "stdout",
     "output_type": "stream",
     "text": [
      "6.3\n"
     ]
    }
   ],
   "source": [
    "def summation():\n",
    "    a = 1\n",
    "    b = 5.3\n",
    "    c = a+b\n",
    "    return c\n",
    "    \n",
    "print(summation())"
   ]
  },
  {
   "cell_type": "code",
   "execution_count": 9,
   "id": "988bbe2a",
   "metadata": {},
   "outputs": [],
   "source": [
    "def summation(a,b):\n",
    "    c = a+b\n",
    "    return c"
   ]
  },
  {
   "cell_type": "code",
   "execution_count": 10,
   "id": "79ff58b7",
   "metadata": {},
   "outputs": [
    {
     "name": "stdout",
     "output_type": "stream",
     "text": [
      "A: 5\n",
      "B: 6\n",
      "11\n"
     ]
    }
   ],
   "source": [
    "a = int(input(\"A: \"))\n",
    "b = int(input(\"B: \"))\n",
    "print(summation(a,b))"
   ]
  },
  {
   "cell_type": "code",
   "execution_count": null,
   "id": "a70ad53d",
   "metadata": {},
   "outputs": [],
   "source": []
  }
 ],
 "metadata": {
  "kernelspec": {
   "display_name": "Python 3",
   "language": "python",
   "name": "python3"
  },
  "language_info": {
   "codemirror_mode": {
    "name": "ipython",
    "version": 3
   },
   "file_extension": ".py",
   "mimetype": "text/x-python",
   "name": "python",
   "nbconvert_exporter": "python",
   "pygments_lexer": "ipython3",
   "version": "3.8.8"
  }
 },
 "nbformat": 4,
 "nbformat_minor": 5
}
