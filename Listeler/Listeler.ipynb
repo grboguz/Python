{
 "cells": [
  {
   "cell_type": "code",
   "execution_count": 1,
   "id": "5620f53b",
   "metadata": {},
   "outputs": [
    {
     "data": {
      "text/plain": [
       "'\\nSyntax\\n    değişken = [ ..., ..., ..., ...]\\n    str=\"...\"\\n    int=...\\n    \\nMethod\\n    1. .append()\\n    2. .extend()\\n    3. .insert()\\n    4. .remove()\\n'"
      ]
     },
     "execution_count": 1,
     "metadata": {},
     "output_type": "execute_result"
    }
   ],
   "source": [
    "\"\"\"\n",
    "Syntax\n",
    "    değişken = [ ..., ..., ..., ...]\n",
    "    str=\"...\"\n",
    "    int=...\n",
    "    \n",
    "Method\n",
    "    1. .append()\n",
    "    2. .extend()\n",
    "    3. .insert()\n",
    "    4. .remove()\n",
    "\"\"\""
   ]
  },
  {
   "cell_type": "code",
   "execution_count": 2,
   "id": "657e134a",
   "metadata": {},
   "outputs": [
    {
     "name": "stdout",
     "output_type": "stream",
     "text": [
      "Football\n",
      "Basketball\n",
      "Soccer\n",
      "Fitness\n",
      "Tennis\n"
     ]
    }
   ],
   "source": [
    "a = [\"Football\", \"Basketball\", \"Soccer\", \"Fitness\", \"Tennis\"]\n",
    "for i in a:\n",
    "    print(i)"
   ]
  },
  {
   "cell_type": "code",
   "execution_count": 3,
   "id": "d08a6594",
   "metadata": {},
   "outputs": [
    {
     "data": {
      "text/plain": [
       "['Basketball', 'Soccer']"
      ]
     },
     "execution_count": 3,
     "metadata": {},
     "output_type": "execute_result"
    }
   ],
   "source": [
    "a[1]\n",
    "a[1:]\n",
    "a[:3]\n",
    "a[1:3]"
   ]
  },
  {
   "cell_type": "code",
   "execution_count": 4,
   "id": "b192198b",
   "metadata": {},
   "outputs": [
    {
     "name": "stdout",
     "output_type": "stream",
     "text": [
      "Football\n",
      "Rugby\n",
      "Soccer\n",
      "Fitness\n",
      "Tennis\n"
     ]
    }
   ],
   "source": [
    "a[1] = \"Rugby\"\n",
    "for i in a:\n",
    "    print(i)"
   ]
  },
  {
   "cell_type": "code",
   "execution_count": 5,
   "id": "ff7075e6",
   "metadata": {},
   "outputs": [
    {
     "name": "stdout",
     "output_type": "stream",
     "text": [
      "Football\n",
      "Rugby\n",
      "Soccer\n",
      "Fitness\n",
      "Tennis\n",
      "Basketball\n",
      "Gymnastics\n"
     ]
    }
   ],
   "source": [
    "a.append(\"Basketball\")\n",
    "a.append(\"Gymnastics\")\n",
    "for i in a:\n",
    "    print(i)"
   ]
  },
  {
   "cell_type": "code",
   "execution_count": 6,
   "id": "7f994acc",
   "metadata": {},
   "outputs": [
    {
     "name": "stdout",
     "output_type": "stream",
     "text": [
      "Football\n",
      "Rugby\n",
      "Soccer\n",
      "Fitness\n",
      "Tennis\n",
      "Gymnastics\n"
     ]
    }
   ],
   "source": [
    "a.remove(\"Basketball\")\n",
    "for i in a:\n",
    "    print(i)"
   ]
  },
  {
   "cell_type": "code",
   "execution_count": 7,
   "id": "22721a44",
   "metadata": {},
   "outputs": [
    {
     "name": "stdout",
     "output_type": "stream",
     "text": [
      "Football\n",
      "Rugby\n",
      "Soccer\n",
      "Fitness\n",
      "Tennis\n",
      "Basketball\n",
      "Gymnastics\n"
     ]
    }
   ],
   "source": [
    "a.insert(5,\"Basketball\")\n",
    "for i in a:\n",
    "    print(i)"
   ]
  }
 ],
 "metadata": {
  "kernelspec": {
   "display_name": "Python 3",
   "language": "python",
   "name": "python3"
  },
  "language_info": {
   "codemirror_mode": {
    "name": "ipython",
    "version": 3
   },
   "file_extension": ".py",
   "mimetype": "text/x-python",
   "name": "python",
   "nbconvert_exporter": "python",
   "pygments_lexer": "ipython3",
   "version": "3.8.8"
  }
 },
 "nbformat": 4,
 "nbformat_minor": 5
}
