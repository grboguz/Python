{
 "cells": [
  {
   "cell_type": "code",
   "execution_count": null,
   "id": "70e440e3",
   "metadata": {},
   "outputs": [],
   "source": [
    "\"\"\"\n",
    "1) Kütüphaneleri dahil etmek\n",
    "2) Resmi/resimleri(dataset) okumak\n",
    "3) Normalize etmek (0-255) --> (0-1)\n",
    "4) Düzleştir\n",
    "5) Modelin Eğitimine Başlanır..\n",
    "\n",
    "Boyut: 5x5\n",
    "\"\"\""
   ]
  },
  {
   "cell_type": "code",
   "execution_count": 1,
   "id": "f1d12a3e",
   "metadata": {},
   "outputs": [],
   "source": [
    "import numpy as np"
   ]
  },
  {
   "cell_type": "code",
   "execution_count": 2,
   "id": "9d84dda0",
   "metadata": {},
   "outputs": [],
   "source": [
    "input_r = np.array([0,0,0,0,0,0, 1,1,1, 0,0, 1,1,1, 0,0, 1,1,1, 0,0,0,0,0,0])\n",
    "input_p = np.array([0,0,0,0,0,0,0, 1, 0,0,0, 1,1,1, 0, 1,1,1,1,1, 0,0,0,0,0])\n",
    "\n",
    "labels = np.array([1, 0])"
   ]
  },
  {
   "cell_type": "code",
   "execution_count": 3,
   "id": "12db0b30",
   "metadata": {},
   "outputs": [
    {
     "name": "stdout",
     "output_type": "stream",
     "text": [
      "Rectangle: 4.5\n",
      "Pyramid: 4.5\n"
     ]
    }
   ],
   "source": [
    "# output = input * weight\n",
    "weights_1 = [0.5, 0.5, 0.5, 0.5, 0.5, \n",
    "             0.5, 0.5, 0.5, 0.5, 0.5,\n",
    "             0.5, 0.5, 0.5, 0.5, 0.5,\n",
    "             0.5, 0.5, 0.5, 0.5, 0.5,\n",
    "             0.5, 0.5, 0.5, 0.5, 0.5] # 0.5\n",
    "\n",
    "output_r = sum(input_r * weights_1)\n",
    "output_p = sum(input_p * weights_1)\n",
    "\n",
    "print(\"Rectangle:\",output_r)\n",
    "print(\"Pyramid:\",output_p)"
   ]
  },
  {
   "cell_type": "code",
   "execution_count": 4,
   "id": "f199c3d3",
   "metadata": {},
   "outputs": [
    {
     "name": "stdout",
     "output_type": "stream",
     "text": [
      "Rectangle: -3\n",
      "Pyramid: 1\n"
     ]
    }
   ],
   "source": [
    "# output = input * weight\n",
    "weights_2 = [1, -1, 1, -1, 1, \n",
    "             1, -1, 1, -1, 1,\n",
    "             1, -1, 1, -1, 1,\n",
    "             1, -1, 1, -1, 1,\n",
    "             1, -1, 1, -1, 1,] # 1,-1\n",
    "\n",
    "output_r = sum(input_r * weights_2)\n",
    "output_p = sum(input_p * weights_2)\n",
    "\n",
    "print(\"Rectangle:\",output_r)\n",
    "print(\"Pyramid:\",output_p)"
   ]
  },
  {
   "cell_type": "code",
   "execution_count": 5,
   "id": "2b7af27e",
   "metadata": {},
   "outputs": [
    {
     "name": "stdout",
     "output_type": "stream",
     "text": [
      "Rectangle: [0 0 0 0 0 0 1 1 1 0 0 1 1 1 0 0 1 1 1 0 0 0 0 0 0]\n",
      "Pyramid: [0 0 0 0 0 0 0 1 0 0 0 1 1 1 0 1 1 1 1 1 0 0 0 0 0]\n"
     ]
    }
   ],
   "source": [
    "print(\"Rectangle:\",input_r)\n",
    "print(\"Pyramid:\",input_p)"
   ]
  },
  {
   "cell_type": "code",
   "execution_count": 6,
   "id": "76e919ab",
   "metadata": {},
   "outputs": [
    {
     "name": "stdout",
     "output_type": "stream",
     "text": [
      "Dataset: [[0 0 0 0 0 0 1 1 1 0 0 1 1 1 0 0 1 1 1 0 0 0 0 0 0]\n",
      " [0 0 0 0 0 0 0 1 0 0 0 1 1 1 0 1 1 1 1 1 0 0 0 0 0]]\n",
      "Labels: [1 0]\n"
     ]
    }
   ],
   "source": [
    "dataset = np.array([input_r, input_p])\n",
    "\n",
    "print(\"Dataset:\",dataset)\n",
    "print(\"Labels:\",labels)"
   ]
  },
  {
   "cell_type": "code",
   "execution_count": 7,
   "id": "908aaacb",
   "metadata": {},
   "outputs": [],
   "source": [
    "def sigmoid(x):\n",
    "    return 1/(1+np.exp(-x))\n",
    "    \n",
    "def derSigmoid(x):\n",
    "    return sigmoid(x) - (1-sigmoid(x))   \n",
    "\n",
    "def optimization(x):\n",
    "    return error * derSigmoid(x)"
   ]
  },
  {
   "cell_type": "code",
   "execution_count": 9,
   "id": "6b8d6b5b",
   "metadata": {},
   "outputs": [],
   "source": [
    "weights = np.array([ 0.5, 0.5, 0.5, 0.5, 0.5, \n",
    "                     0.5, 0.5, 0.5, 0.5, 0.5,\n",
    "                     0.5, 0.5, 0.5, 0.5, 0.5,\n",
    "                     0.5, 0.5, 0.5, 0.5, 0.5,\n",
    "                     0.5, 0.5, 0.5, 0.5, 0.5 ])"
   ]
  },
  {
   "cell_type": "code",
   "execution_count": 17,
   "id": "d5f14d51",
   "metadata": {},
   "outputs": [
    {
     "name": "stdout",
     "output_type": "stream",
     "text": [
      "[INFO].... Iteration Number: 1\n",
      "[INFO].... Iteration Number: 2\n",
      "[INFO].... Iteration Number: 3\n",
      "[INFO].... Iteration Number: 4\n",
      "[INFO].... Iteration Number: 5\n",
      "[INFO].... Iteration Number: 6\n",
      "[INFO].... Iteration Number: 7\n",
      "[INFO].... Iteration Number: 8\n",
      "[INFO].... Iteration Number: 9\n",
      "[INFO].... Iteration Number: 10\n",
      "[INFO].... Iteration Number: 11\n",
      "[INFO].... Iteration Number: 12\n",
      "[INFO].... Iteration Number: 13\n",
      "[INFO].... Iteration Number: 14\n",
      "[INFO].... Iteration Number: 15\n",
      "[INFO].... Iteration Number: 16\n",
      "[INFO].... Iteration Number: 17\n",
      "[INFO].... Iteration Number: 18\n",
      "[INFO].... Iteration Number: 19\n",
      "[INFO].... Iteration Number: 20\n",
      "[INFO].... Iteration Number: 21\n",
      "[INFO].... Iteration Number: 22\n",
      "[INFO].... Iteration Number: 23\n",
      "[INFO].... Iteration Number: 24\n",
      "[INFO].... Iteration Number: 25\n",
      "[INFO].... Iteration Number: 26\n",
      "[INFO].... Iteration Number: 27\n",
      "[INFO].... Iteration Number: 28\n",
      "[INFO].... Iteration Number: 29\n",
      "[INFO].... Iteration Number: 30\n",
      "[INFO].... Iteration Number: 31\n",
      "[INFO].... Iteration Number: 32\n",
      "[INFO].... Iteration Number: 33\n",
      "[INFO].... Iteration Number: 34\n",
      "[INFO].... Iteration Number: 35\n",
      "[INFO].... Iteration Number: 36\n",
      "[INFO].... Iteration Number: 37\n",
      "[INFO].... Iteration Number: 38\n",
      "[INFO].... Iteration Number: 39\n",
      "[INFO].... Iteration Number: 40\n",
      "[INFO].... Iteration Number: 41\n",
      "[INFO].... Iteration Number: 42\n",
      "[INFO].... Iteration Number: 43\n",
      "[INFO].... Iteration Number: 44\n",
      "[INFO].... Iteration Number: 45\n",
      "[INFO].... Iteration Number: 46\n",
      "[INFO].... Iteration Number: 47\n",
      "[INFO].... Iteration Number: 48\n",
      "[INFO].... Iteration Number: 49\n",
      "[INFO].... Iteration Number: 50\n"
     ]
    }
   ],
   "source": [
    "for i in range(50):\n",
    "    print(\"[INFO].... Iteration Number:\",i+1)\n",
    "    \n",
    "    current_weights = weights.copy()\n",
    "    for img, label in zip(dataset, labels):\n",
    "        #print(img, label)\n",
    "        output = sum(img * weights)\n",
    "        #print(\"output:\",output)\n",
    "        result = sigmoid(output)\n",
    "\n",
    "        error = result - label\n",
    "        opt = optimization(result)\n",
    "\n",
    "        current_weights = current_weights - np.dot(img,opt)\n",
    "    \n",
    "    weights = current_weights.copy()"
   ]
  },
  {
   "cell_type": "code",
   "execution_count": 18,
   "id": "c856d7b6",
   "metadata": {},
   "outputs": [
    {
     "data": {
      "text/plain": [
       "array([ 0.5       ,  0.5       ,  0.5       ,  0.5       ,  0.5       ,\n",
       "        0.5       ,  1.76456215,  0.0644811 ,  1.76456215,  0.5       ,\n",
       "        0.5       ,  0.0644811 ,  0.0644811 ,  0.0644811 ,  0.5       ,\n",
       "       -1.20008106,  0.0644811 ,  0.0644811 ,  0.0644811 , -1.20008106,\n",
       "        0.5       ,  0.5       ,  0.5       ,  0.5       ,  0.5       ])"
      ]
     },
     "execution_count": 18,
     "metadata": {},
     "output_type": "execute_result"
    }
   ],
   "source": [
    "weights"
   ]
  },
  {
   "cell_type": "code",
   "execution_count": null,
   "id": "a70e7142",
   "metadata": {},
   "outputs": [],
   "source": [
    "\"\"\"\n",
    "1 -> R\n",
    "0 -> P\n",
    "\n",
    "if sayi < 0.5:\n",
    "    \"Pyramid\"\n",
    "if sayi > 0.5:\n",
    "    \"Rectangle\n",
    "\"\"\"\""
   ]
  },
  {
   "cell_type": "code",
   "execution_count": 22,
   "id": "dcec3b0a",
   "metadata": {},
   "outputs": [
    {
     "name": "stdout",
     "output_type": "stream",
     "text": [
      "0 Pyramid\n"
     ]
    }
   ],
   "source": [
    "input_r = np.array([0,0,0,0,0,0, 1,1,1, 0,0, 1,1,1, 0,0, 1,1,1, 0,0,0,0,0,0])\n",
    "input_p = np.array([0,0,0,0,0,0,0, 1, 0,0,0, 1,1,1, 0, 1,1,1,1,1, 0,0,0,0,0])\n",
    "\n",
    "labels = np.array([1, 0])\n",
    "\n",
    "output = sum(input_p*weights)\n",
    "prediction = sigmoid(output)\n",
    "\n",
    "if prediction < 0.5:\n",
    "    print(labels[1],\"Pyramid\")\n",
    "    \n",
    "if prediction > 0.5:\n",
    "    print(labels[0],\"Rectangle\")"
   ]
  },
  {
   "cell_type": "code",
   "execution_count": null,
   "id": "5ec9b9d1",
   "metadata": {},
   "outputs": [],
   "source": [
    "\"\"\"\n",
    "error = result - label\n",
    "opt = optimization(result)\n",
    "weights = weights - np.dot(dataset, opt)\n",
    "\"\"\""
   ]
  },
  {
   "cell_type": "code",
   "execution_count": null,
   "id": "434d63e6",
   "metadata": {},
   "outputs": [],
   "source": []
  },
  {
   "cell_type": "code",
   "execution_count": null,
   "id": "f0cb1664",
   "metadata": {},
   "outputs": [],
   "source": []
  },
  {
   "cell_type": "code",
   "execution_count": null,
   "id": "fb7c24b1",
   "metadata": {},
   "outputs": [],
   "source": []
  }
 ],
 "metadata": {
  "kernelspec": {
   "display_name": "Python 3",
   "language": "python",
   "name": "python3"
  },
  "language_info": {
   "codemirror_mode": {
    "name": "ipython",
    "version": 3
   },
   "file_extension": ".py",
   "mimetype": "text/x-python",
   "name": "python",
   "nbconvert_exporter": "python",
   "pygments_lexer": "ipython3",
   "version": "3.8.8"
  }
 },
 "nbformat": 4,
 "nbformat_minor": 5
}
