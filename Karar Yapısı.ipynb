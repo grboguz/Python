{
 "cells": [
  {
   "cell_type": "code",
   "execution_count": null,
   "id": "b02db41f",
   "metadata": {},
   "outputs": [],
   "source": [
    "# Karar Yapısı\n",
    "\n",
    "\"\"\"\n",
    "Karşılaştırma:\n",
    " 1) ==\n",
    " 2) !=\n",
    " 3) >, >=\n",
    " 4) <, <= \n",
    " \n",
    "Bağlaç:\n",
    " 1) and\n",
    " 2) or\n",
    " \n",
    "Syntax:\n",
    "\n",
    "if (koşul):\n",
    "    ....işlem.....\n",
    "    ....işlem.....\n",
    "    ....işlem.....\n",
    "\n",
    "elif (koşul):\n",
    "    ....işlem.....\n",
    "    ....işlem.....\n",
    "    ....işlem.....\n",
    "    \n",
    "elif (koşul):\n",
    "    ....işlem.....\n",
    "    ....işlem.....\n",
    "    ....işlem.....\n",
    "    \n",
    "elif (koşul):\n",
    "    ....işlem.....\n",
    "    ....işlem.....\n",
    "    ....işlem.....\n",
    "    \n",
    "else:\n",
    "    ....işlem.....\n",
    "\n",
    "----------------------------------------\n",
    "Kısa:\n",
    "işlem if (koşul) else işlem\n",
    "\"\"\""
   ]
  },
  {
   "cell_type": "code",
   "execution_count": 2,
   "id": "388bb48c",
   "metadata": {},
   "outputs": [
    {
     "name": "stdout",
     "output_type": "stream",
     "text": [
      "Enter your age: 25\n",
      "Enter your age: 25\n",
      "y is equal to x\n"
     ]
    }
   ],
   "source": [
    "# Kullanıcıdan iki sayı al ve karşılaştır.\n",
    "\n",
    "x = float(input(\"Enter your age: \"))\n",
    "y = float(input(\"Enter your age: \"))\n",
    "\n",
    "if x>y:\n",
    "    print(\"x is greater than y\")\n",
    "#print(\"Errorrr!\")\n",
    "elif y>x:\n",
    "    print(\"y is greater than x\")\n",
    "else:\n",
    "    print(\"y is equal to x\")\n",
    "    "
   ]
  },
  {
   "cell_type": "code",
   "execution_count": 3,
   "id": "90403c2f",
   "metadata": {},
   "outputs": [
    {
     "name": "stdout",
     "output_type": "stream",
     "text": [
      "b is greater a and b is not greater than c\n"
     ]
    }
   ],
   "source": [
    "# İç içe if koşulu (nested decision making (if else))\n",
    "a = 12\n",
    "b = 15\n",
    "c = 17\n",
    "\n",
    "if a<b:\n",
    "    if b>c:\n",
    "        print(\"b is greater a and b is greater than c\")\n",
    "    else:\n",
    "        print(\"b is greater a and b is not greater than c\")\n",
    "        "
   ]
  },
  {
   "cell_type": "code",
   "execution_count": 5,
   "id": "f544c2db",
   "metadata": {},
   "outputs": [
    {
     "name": "stdout",
     "output_type": "stream",
     "text": [
      "a>b or a==b\n"
     ]
    }
   ],
   "source": [
    "# Kısa if kullanımı\n",
    "a = 17\n",
    "b = 15\n",
    "\n",
    "print(\"a<b\") if a<b else print(\"a>b or a==b\")"
   ]
  },
  {
   "cell_type": "code",
   "execution_count": 8,
   "id": "83e3be4b",
   "metadata": {},
   "outputs": [
    {
     "name": "stdout",
     "output_type": "stream",
     "text": [
      "False\n"
     ]
    }
   ],
   "source": [
    "a = 17\n",
    "b = 15\n",
    "c = 18\n",
    "\n",
    "if a>b and a==c:\n",
    "    print(\"True\")\n",
    "else:\n",
    "    print(\"False\")"
   ]
  },
  {
   "cell_type": "code",
   "execution_count": 9,
   "id": "008c5554",
   "metadata": {},
   "outputs": [
    {
     "name": "stdout",
     "output_type": "stream",
     "text": [
      "True\n"
     ]
    }
   ],
   "source": [
    "a = 17\n",
    "b = 15\n",
    "c = 18\n",
    "\n",
    "if a>b or a==c:\n",
    "    print(\"True\")\n",
    "else:\n",
    "    print(\"False\")"
   ]
  }
 ],
 "metadata": {
  "kernelspec": {
   "display_name": "Python 3",
   "language": "python",
   "name": "python3"
  },
  "language_info": {
   "codemirror_mode": {
    "name": "ipython",
    "version": 3
   },
   "file_extension": ".py",
   "mimetype": "text/x-python",
   "name": "python",
   "nbconvert_exporter": "python",
   "pygments_lexer": "ipython3",
   "version": "3.8.8"
  }
 },
 "nbformat": 4,
 "nbformat_minor": 5
}
