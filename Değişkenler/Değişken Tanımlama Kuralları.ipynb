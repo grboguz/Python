{
 "cells": [
  {
   "cell_type": "code",
   "execution_count": null,
   "id": "f72ad836",
   "metadata": {},
   "outputs": [],
   "source": [
    "\"\"\"\n",
    "1) ilksayi(x), ilk_sayi, ilkSayi\n",
    "\n",
    "2) !, @, #, $, %, vb.\n",
    "\n",
    "3) 1sayi(x), birSayi\n",
    "\n",
    "4) harf, _\n",
    "\n",
    "5) keywords: for, in, def, pass\n",
    "\"\"\""
   ]
  },
  {
   "cell_type": "code",
   "execution_count": null,
   "id": "67b42c56",
   "metadata": {},
   "outputs": [],
   "source": [
    "ilksayi = 5\n",
    "ilk_sayi = 5\n",
    "ilkSayi = 5"
   ]
  },
  {
   "cell_type": "code",
   "execution_count": 1,
   "id": "43b9bb48",
   "metadata": {},
   "outputs": [
    {
     "ename": "SyntaxError",
     "evalue": "invalid syntax (<ipython-input-1-0772f91ef4a0>, line 1)",
     "output_type": "error",
     "traceback": [
      "\u001b[1;36m  File \u001b[1;32m\"<ipython-input-1-0772f91ef4a0>\"\u001b[1;36m, line \u001b[1;32m1\u001b[0m\n\u001b[1;33m    x! = 5\u001b[0m\n\u001b[1;37m     ^\u001b[0m\n\u001b[1;31mSyntaxError\u001b[0m\u001b[1;31m:\u001b[0m invalid syntax\n"
     ]
    }
   ],
   "source": [
    "x! = 5"
   ]
  },
  {
   "cell_type": "code",
   "execution_count": 2,
   "id": "f282524e",
   "metadata": {},
   "outputs": [
    {
     "ename": "SyntaxError",
     "evalue": "invalid syntax (<ipython-input-2-068cf4571580>, line 1)",
     "output_type": "error",
     "traceback": [
      "\u001b[1;36m  File \u001b[1;32m\"<ipython-input-2-068cf4571580>\"\u001b[1;36m, line \u001b[1;32m1\u001b[0m\n\u001b[1;33m    1sayi = 10\u001b[0m\n\u001b[1;37m     ^\u001b[0m\n\u001b[1;31mSyntaxError\u001b[0m\u001b[1;31m:\u001b[0m invalid syntax\n"
     ]
    }
   ],
   "source": [
    "1sayi = 10"
   ]
  },
  {
   "cell_type": "code",
   "execution_count": 4,
   "id": "c744ff4a",
   "metadata": {},
   "outputs": [],
   "source": [
    "s1ayi = 10\n",
    "sayi1 = 10"
   ]
  },
  {
   "cell_type": "code",
   "execution_count": 6,
   "id": "709851a3",
   "metadata": {},
   "outputs": [
    {
     "ename": "SyntaxError",
     "evalue": "invalid syntax (<ipython-input-6-dd18c27b84b9>, line 1)",
     "output_type": "error",
     "traceback": [
      "\u001b[1;36m  File \u001b[1;32m\"<ipython-input-6-dd18c27b84b9>\"\u001b[1;36m, line \u001b[1;32m1\u001b[0m\n\u001b[1;33m    for = 10\u001b[0m\n\u001b[1;37m        ^\u001b[0m\n\u001b[1;31mSyntaxError\u001b[0m\u001b[1;31m:\u001b[0m invalid syntax\n"
     ]
    }
   ],
   "source": [
    "for = 10\n",
    "in = 5\n",
    "pass, continue = 10, 7"
   ]
  },
  {
   "cell_type": "code",
   "execution_count": 7,
   "id": "aa7ec285",
   "metadata": {},
   "outputs": [],
   "source": [
    "first_pass = 10"
   ]
  }
 ],
 "metadata": {
  "kernelspec": {
   "display_name": "Python 3",
   "language": "python",
   "name": "python3"
  },
  "language_info": {
   "codemirror_mode": {
    "name": "ipython",
    "version": 3
   },
   "file_extension": ".py",
   "mimetype": "text/x-python",
   "name": "python",
   "nbconvert_exporter": "python",
   "pygments_lexer": "ipython3",
   "version": "3.8.8"
  }
 },
 "nbformat": 4,
 "nbformat_minor": 5
}
