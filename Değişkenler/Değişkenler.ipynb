{
 "cells": [
  {
   "cell_type": "code",
   "execution_count": 4,
   "id": "d488bcb8",
   "metadata": {},
   "outputs": [
    {
     "name": "stdout",
     "output_type": "stream",
     "text": [
      "5\n",
      "<class 'int'>\n"
     ]
    },
    {
     "data": {
      "text/plain": [
       "'\\nx_type = type(x)\\nprint(x_type) \\n'"
      ]
     },
     "execution_count": 4,
     "metadata": {},
     "output_type": "execute_result"
    }
   ],
   "source": [
    "x = 5 # int\n",
    "print(x)\n",
    "print(type(x)) \n",
    "\"\"\"\n",
    "x_type = type(x)\n",
    "print(x_type) \n",
    "\"\"\""
   ]
  },
  {
   "cell_type": "code",
   "execution_count": 14,
   "id": "8daa0276",
   "metadata": {},
   "outputs": [
    {
     "name": "stdout",
     "output_type": "stream",
     "text": [
      "Donald Trump\n",
      "<class 'str'>\n"
     ]
    }
   ],
   "source": [
    "y = \"Donald Trump\" # str\n",
    "print(y) #print(\"y\")\n",
    "print(type(y))\n",
    "\n",
    "str_number = \"15\""
   ]
  },
  {
   "cell_type": "code",
   "execution_count": 8,
   "id": "c8be2851",
   "metadata": {},
   "outputs": [
    {
     "name": "stdout",
     "output_type": "stream",
     "text": [
      "5.3\n",
      "<class 'float'>\n"
     ]
    }
   ],
   "source": [
    "z = 5.3 # float  \n",
    "print(z)\n",
    "print(type(z))"
   ]
  },
  {
   "cell_type": "code",
   "execution_count": 15,
   "id": "7678dbd0",
   "metadata": {},
   "outputs": [
    {
     "name": "stdout",
     "output_type": "stream",
     "text": [
      "15\n",
      "<class 'int'>\n"
     ]
    }
   ],
   "source": [
    "\n",
    "# integer to string\n",
    "x_to_string = str(x)\n",
    "print(x_to_string)\n",
    "print(type(x_to_string))\n",
    "\n",
    "# integer to float\n",
    "x_to_float = float(x)\n",
    "print(x_to_float)\n",
    "print(type(x_to_float))\n",
    "\n",
    "# float to integer\n",
    "z_to_integer = int(z)\n",
    "print(z_to_integer)\n",
    "print(type(z_to_integer))\n",
    "\n",
    "# string to integer\n",
    "str_number_to_integer = int(str_number)\n",
    "print(str_number_to_integer)\n",
    "print(type(str_number_to_integer))"
   ]
  }
 ],
 "metadata": {
  "kernelspec": {
   "display_name": "Python 3",
   "language": "python",
   "name": "python3"
  },
  "language_info": {
   "codemirror_mode": {
    "name": "ipython",
    "version": 3
   },
   "file_extension": ".py",
   "mimetype": "text/x-python",
   "name": "python",
   "nbconvert_exporter": "python",
   "pygments_lexer": "ipython3",
   "version": "3.8.8"
  }
 },
 "nbformat": 4,
 "nbformat_minor": 5
}
