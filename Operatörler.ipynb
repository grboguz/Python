{
 "cells": [
  {
   "cell_type": "code",
   "execution_count": null,
   "id": "d9c3d3aa",
   "metadata": {},
   "outputs": [],
   "source": [
    "\"\"\"\n",
    "1. ARİTMETİK OPERATÖRLER\n",
    "\n",
    "+   -------------->   x + y\n",
    "-   -------------->   x - y\n",
    "*   -------------->   x * y\n",
    "/   -------------->   x / y\n",
    "%   -------------->   x % y (mod)\n",
    "**   -------------->  x ** y\n",
    "//   -------------->  x // y\n",
    "\"\"\""
   ]
  },
  {
   "cell_type": "code",
   "execution_count": 4,
   "id": "a8251365",
   "metadata": {},
   "outputs": [
    {
     "name": "stdout",
     "output_type": "stream",
     "text": [
      "2\n",
      "4\n",
      "6\n",
      "8\n"
     ]
    }
   ],
   "source": [
    "x = [1,2,3,4,5,6,7,8,9]\n",
    "for i in x:\n",
    "    if i%2==0:\n",
    "        print(i)"
   ]
  },
  {
   "cell_type": "code",
   "execution_count": 5,
   "id": "683f1632",
   "metadata": {},
   "outputs": [
    {
     "data": {
      "text/plain": [
       "9765625"
      ]
     },
     "execution_count": 5,
     "metadata": {},
     "output_type": "execute_result"
    }
   ],
   "source": [
    "a = 5\n",
    "b = 10\n",
    "a**b"
   ]
  },
  {
   "cell_type": "code",
   "execution_count": 7,
   "id": "e49f5aa4",
   "metadata": {},
   "outputs": [
    {
     "name": "stdout",
     "output_type": "stream",
     "text": [
      "3.3333333333333335\n",
      "3\n"
     ]
    }
   ],
   "source": [
    "print(10/3)\n",
    "print(10//3)"
   ]
  },
  {
   "cell_type": "code",
   "execution_count": null,
   "id": "37e9b473",
   "metadata": {},
   "outputs": [],
   "source": [
    "\"\"\"\n",
    "2. ATAMA OPERATÖRLERİ\n",
    "\n",
    "=   ---------------->   x = 3\n",
    "+=  --> x += 3    -->   x = x + 3\n",
    "-=  --> x -= 3    -->   x = x - 3\n",
    "*=  --> x *= 3    -->   x = x * 3\n",
    "/=  --> x /= 3    -->   x = x / 3\n",
    "%=  --> x %= 3    -->   x = x % 3\n",
    "//=  --> x //= 3  -->   x = x // 3\n",
    "**=  --> x **= 3  -->   x = x ** 3\n",
    "\n",
    "\"\"\""
   ]
  },
  {
   "cell_type": "code",
   "execution_count": 11,
   "id": "18cf18f7",
   "metadata": {},
   "outputs": [],
   "source": [
    "x = 3\n",
    "y = 9"
   ]
  },
  {
   "cell_type": "code",
   "execution_count": 14,
   "id": "e82afea6",
   "metadata": {},
   "outputs": [
    {
     "name": "stdout",
     "output_type": "stream",
     "text": [
      "True\n",
      "False\n",
      "True\n"
     ]
    }
   ],
   "source": [
    "print(x == 3)\n",
    "print(y == 8)\n",
    "print(y != 8)"
   ]
  },
  {
   "cell_type": "code",
   "execution_count": 16,
   "id": "377a5b2a",
   "metadata": {},
   "outputs": [
    {
     "name": "stdout",
     "output_type": "stream",
     "text": [
      "9\n",
      "12\n"
     ]
    }
   ],
   "source": [
    "x = x + 3\n",
    "print(x)\n",
    "y += 3 # y=y+3\n",
    "print(y)"
   ]
  },
  {
   "cell_type": "code",
   "execution_count": null,
   "id": "7a5a01a1",
   "metadata": {},
   "outputs": [],
   "source": [
    "\"\"\"\n",
    "3.MANTIKSAL OPERATÖRLER\n",
    "\n",
    "and\n",
    "or\n",
    "not\n",
    "------\n",
    "is\n",
    "is not\n",
    "------\n",
    "in\n",
    "not in\n",
    "------\n",
    "&\n",
    "|\n",
    "^\n",
    "~\n",
    "------\n",
    "\n",
    "4.KARŞILAŞTIRMA OPERATÖRLERİ\n",
    "\n",
    "== --> 5 == 5 --> True\n",
    "!= --> 5 != 7 --> True\n",
    ">  --> 5 > 7 --> False\n",
    "<  --> 5 < 7 --> True\n",
    ">= --> 5 >= 7 --> False\n",
    "<= --> 8 <= 7 --> False\n",
    "\n",
    "\"\"\"\n"
   ]
  },
  {
   "cell_type": "code",
   "execution_count": 18,
   "id": "ff5194c2",
   "metadata": {},
   "outputs": [
    {
     "name": "stdout",
     "output_type": "stream",
     "text": [
      "False\n"
     ]
    }
   ],
   "source": [
    "statement1 = True\n",
    "statement2 = False\n",
    "statement3 = statement1 and statement2\n",
    "print(statement3)"
   ]
  },
  {
   "cell_type": "code",
   "execution_count": 20,
   "id": "21edfbe0",
   "metadata": {},
   "outputs": [
    {
     "name": "stdout",
     "output_type": "stream",
     "text": [
      "False\n"
     ]
    }
   ],
   "source": [
    "statement1 = False\n",
    "statement2 = False\n",
    "statement3 = statement1 or statement2\n",
    "print(statement3)"
   ]
  },
  {
   "cell_type": "code",
   "execution_count": 22,
   "id": "0add6c56",
   "metadata": {},
   "outputs": [
    {
     "name": "stdout",
     "output_type": "stream",
     "text": [
      "False\n"
     ]
    }
   ],
   "source": [
    "statement1 = False\n",
    "statement2 = True\n",
    "statement3 = statement1 or statement2\n",
    "print(not(statement3))"
   ]
  },
  {
   "cell_type": "code",
   "execution_count": 25,
   "id": "9f80f153",
   "metadata": {},
   "outputs": [
    {
     "name": "stdout",
     "output_type": "stream",
     "text": [
      "True\n",
      "False\n",
      "True\n"
     ]
    }
   ],
   "source": [
    "# is - is not\n",
    "x1 = 9\n",
    "x2 = 10\n",
    "x3 = 9\n",
    "print(x1 is x3)\n",
    "print(x1 is not x3)\n",
    "print(x1 is not x2)"
   ]
  },
  {
   "cell_type": "code",
   "execution_count": 28,
   "id": "e36f211f",
   "metadata": {},
   "outputs": [
    {
     "name": "stdout",
     "output_type": "stream",
     "text": [
      "True\n",
      "False\n",
      "False\n"
     ]
    }
   ],
   "source": [
    "# in - not in\n",
    "\n",
    "list1 = [1,2,3,4,5]\n",
    "list2 = [7,8,9,1,2]\n",
    "\n",
    "print(1 in list1)\n",
    "print(8 in list1)\n",
    "\n",
    "print(8 not in list2)"
   ]
  }
 ],
 "metadata": {
  "kernelspec": {
   "display_name": "Python 3",
   "language": "python",
   "name": "python3"
  },
  "language_info": {
   "codemirror_mode": {
    "name": "ipython",
    "version": 3
   },
   "file_extension": ".py",
   "mimetype": "text/x-python",
   "name": "python",
   "nbconvert_exporter": "python",
   "pygments_lexer": "ipython3",
   "version": "3.8.8"
  }
 },
 "nbformat": 4,
 "nbformat_minor": 5
}
