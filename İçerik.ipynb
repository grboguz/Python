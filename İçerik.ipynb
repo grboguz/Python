{
 "cells": [
  {
   "cell_type": "code",
   "execution_count": null,
   "id": "cc93fd6b",
   "metadata": {},
   "outputs": [],
   "source": [
    "\"\"\"\n",
    "Python A-Z™ : Bilgisayarlı Görü için Python Programlama Kursu | 2022\n",
    "\n",
    "    1. Temel Kurallar ve Yapılar\n",
    "        Syntax, Comments\n",
    "        Variables\n",
    "        Data Types\n",
    "        Numbers, Strings\n",
    "        Type Casting\n",
    "        Operators\n",
    "        Lists\n",
    "        Tuples\n",
    "        Dictionaries\n",
    "        Hata Ayıklama\n",
    "\n",
    "    2. Döngüler ve Karar Yapıları\n",
    "        If...Else\n",
    "        While Loops\n",
    "        For Loops\n",
    "\n",
    "    3. Fonksiyonlar ve OOP\n",
    "        Functions\n",
    "        Classes/Objects\n",
    "        Python Inheritance\n",
    "        Modules\n",
    "\n",
    "    4. Modüller\n",
    "        Matplotlib, NumPy\n",
    "        \n",
    "    5. Final Projesi\n",
    "        Resim Sınıflandırıcı\n",
    "\"\"\""
   ]
  }
 ],
 "metadata": {
  "kernelspec": {
   "display_name": "Python 3",
   "language": "python",
   "name": "python3"
  },
  "language_info": {
   "codemirror_mode": {
    "name": "ipython",
    "version": 3
   },
   "file_extension": ".py",
   "mimetype": "text/x-python",
   "name": "python",
   "nbconvert_exporter": "python",
   "pygments_lexer": "ipython3",
   "version": "3.8.8"
  }
 },
 "nbformat": 4,
 "nbformat_minor": 5
}
